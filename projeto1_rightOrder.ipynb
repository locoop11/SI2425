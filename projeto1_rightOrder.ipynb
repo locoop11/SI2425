{
 "cells": [
  {
   "cell_type": "code",
   "execution_count": 100,
   "metadata": {},
   "outputs": [],
   "source": [
    "from searchPlus import *"
   ]
  },
  {
   "cell_type": "code",
   "execution_count": 101,
   "metadata": {},
   "outputs": [],
   "source": [
    "line1 = \"## ## ## ## ## ## ## ## ##\\n\"\n",
    "line2 = \"## .. .. .. .. .. .. .. ##\\n\"\n",
    "line3 = \"## .. .. .. 00 .. .. .. ##\\n\"\n",
    "line4 = \"## .. .. .. .. .. .. .. ##\\n\"\n",
    "line5 = \"## .. .. () () () .. .. ##\\n\"\n",
    "line6 = \"## .. .. .. .. .. .. .. ##\\n\"\n",
    "line7 = \"## .. .. .. 01 .. .. .. ##\\n\"\n",
    "line8 = \"## .. .. .. .. .. .. .. ##\\n\"\n",
    "line9 = \"## ## ## ## ## ## ## ## ##\\n\"\n",
    "grid = line1 + line2 + line3 + line4 + line5 + line6 + line7 + line8 + line9"
   ]
  },
  {
   "cell_type": "code",
   "execution_count": 102,
   "metadata": {},
   "outputs": [],
   "source": [
    "class PenguinsPairs(Problem):\n",
    "    def __init__(self, ice_map=grid):\n",
    "        self.initial = self.parse_grid(ice_map)\n",
    "        self.rows, self.cols = len(self.initial), len(self.initial[0])\n",
    "        super().__init__(self.initial)\n",
    "\n",
    "    def parse_grid(self, ice_map):\n",
    "        return tuple(tuple(line.split()) for line in ice_map.strip().split(\"\\n\"))\n",
    "\n",
    "    def actions(self, state):\n",
    "        moves = []\n",
    "        directions = {'N': (-1, 0), 'S': (1, 0), 'E': (0, 1), 'O': (0, -1)}\n",
    "        \n",
    "        penguins = sorted(p for row in state for p in row if p.isdigit())\n",
    "        \n",
    "        for penguin in penguins:\n",
    "            for i, row in enumerate(state):\n",
    "                for j, cell in enumerate(row):\n",
    "                    if cell == penguin:\n",
    "                        for direction, (di, dj) in directions.items():\n",
    "                            ni, nj = i + di, j + dj\n",
    "                            \n",
    "                            if not (0 <= ni < self.rows and 0 <= nj < self.cols) or state[ni][nj] in ('##', '()'):\n",
    "                                continue\n",
    "\n",
    "                            while 0 <= ni < self.rows and 0 <= nj < self.cols and state[ni][nj] not in ('()', '##'):\n",
    "                                if state[ni][nj].isdigit() and len(state[ni][nj]) == 2:\n",
    "                                    break\n",
    "                                ni += di\n",
    "                                nj += dj\n",
    "                            \n",
    "                            if 0 <= ni < self.rows and 0 <= nj < self.cols and state[ni][nj] not in ('()', penguin):\n",
    "                                moves.append((penguin, direction))\n",
    "        \n",
    "        return sorted(moves)\n",
    "\n",
    "    def result(self, state, action):\n",
    "        penguin, direction = action\n",
    "        directions = {'N': (-1, 0), 'S': (1, 0), 'E': (0, 1), 'O': (0, -1)}\n",
    "        di, dj = directions[direction]\n",
    "        new_state = [list(row) for row in state]\n",
    "        \n",
    "        for i, row in enumerate(state):\n",
    "            for j, cell in enumerate(row):\n",
    "                if cell == penguin:\n",
    "                    ni, nj = i + di, j + dj\n",
    "                    while 0 <= ni < self.rows and 0 <= nj < self.cols and new_state[ni][nj] == \"..\":\n",
    "                        ni += di\n",
    "                        nj += dj\n",
    "                    \n",
    "                    ni -= di\n",
    "                    nj -= dj\n",
    "                    new_state[i][j], new_state[ni][nj] = \"..\", penguin\n",
    "                    return tuple(tuple(row) for row in new_state)\n",
    "        \n",
    "        return state\n",
    "\n",
    "    def goal_test(self, state):\n",
    "        return any(\n",
    "            state[i][j].isdigit() and state[i + 1][j].isdigit() and int(state[i][j]) < int(state[i + 1][j])\n",
    "            for i in range(self.rows - 1) for j in range(self.cols)\n",
    "        )\n",
    "\n",
    "    def display(self, state):\n",
    "        return \"\\n\".join(\" \".join(row) for row in state) + \"\\n\"\n",
    "    \n",
    "    def executa(self, state, actions_list, verbose=False):\n",
    "        cost = 0\n",
    "        \n",
    "        for action in actions_list:\n",
    "            new_state = self.result(state, action)\n",
    "            cost = self.path_cost(cost, state, action, new_state)\n",
    "            state = new_state\n",
    "            reached_goal = self.goal_test(state)\n",
    "            \n",
    "            if verbose:\n",
    "                print(f'Ação: {action}')\n",
    "                print(self.display(state), end='')\n",
    "                print(f'Custo Total: {cost}')\n",
    "                print(f'Atingido o objectivo? {reached_goal}\\n')\n",
    "            \n",
    "            if reached_goal:\n",
    "                break\n",
    "        \n",
    "        return state, cost, reached_goal"
   ]
  },
  {
   "cell_type": "code",
   "execution_count": 103,
   "metadata": {},
   "outputs": [
    {
     "name": "stdout",
     "output_type": "stream",
     "text": [
      "[('00', 'E'), ('00', 'N'), ('00', 'O'), ('01', 'E'), ('01', 'O'), ('01', 'S')]\n"
     ]
    }
   ],
   "source": [
    "p = PenguinsPairs(grid)\n",
    "print(p.actions(p.initial))"
   ]
  },
  {
   "cell_type": "code",
   "execution_count": 104,
   "metadata": {},
   "outputs": [
    {
     "name": "stdout",
     "output_type": "stream",
     "text": [
      "(('##', '##', '##', '##', '##', '##', '##', '##', '##'), ('##', '..', '..', '..', '..', '..', '..', '..', '##'), ('##', '..', '..', '..', '00', '..', '..', '..', '##'), ('##', '..', '..', '..', '..', '..', '..', '..', '##'), ('##', '..', '..', '()', '()', '()', '..', '..', '##'), ('##', '..', '..', '..', '..', '..', '..', '..', '##'), ('##', '..', '..', '..', '01', '..', '..', '..', '##'), ('##', '..', '..', '..', '..', '..', '..', '..', '##'), ('##', '##', '##', '##', '##', '##', '##', '##', '##'))\n"
     ]
    }
   ],
   "source": [
    "print(p.initial)"
   ]
  },
  {
   "cell_type": "code",
   "execution_count": 105,
   "metadata": {},
   "outputs": [
    {
     "name": "stdout",
     "output_type": "stream",
     "text": [
      "## ## ## ## ## ## ## ## ##\n",
      "## .. .. .. .. .. .. .. ##\n",
      "## .. .. .. 00 .. .. .. ##\n",
      "## .. .. .. .. .. .. .. ##\n",
      "## .. .. () () () .. .. ##\n",
      "## .. .. .. .. .. .. .. ##\n",
      "## .. .. .. 01 .. .. .. ##\n",
      "## .. .. .. .. .. .. .. ##\n",
      "## ## ## ## ## ## ## ## ##\n",
      "\n"
     ]
    }
   ],
   "source": [
    "print(p.display(p.initial))"
   ]
  },
  {
   "cell_type": "code",
   "execution_count": 106,
   "metadata": {},
   "outputs": [],
   "source": [
    "line1 = \"## () () () () () () () ##\\n\"\n",
    "line2 = \"## .. .. .. .. .. .. .. ##\\n\"\n",
    "line3 = \"## .. .. .. 00 .. .. .. ##\\n\"\n",
    "line4 = \"## .. .. .. .. .. .. .. ##\\n\"\n",
    "line5 = \"## .. .. () () () .. .. ##\\n\"\n",
    "line6 = \"## .. .. .. .. .. .. .. ##\\n\"\n",
    "line7 = \"## .. .. .. 01 .. .. .. ##\\n\"\n",
    "line8 = \"## .. .. .. .. .. .. .. ##\\n\"\n",
    "line9 = \"## () () () () () () () ##\\n\"\n",
    "grid2 = line1 + line2 + line3 + line4 + line5 + line6 + line7 + line8 + line9"
   ]
  },
  {
   "cell_type": "code",
   "execution_count": 107,
   "metadata": {},
   "outputs": [
    {
     "name": "stdout",
     "output_type": "stream",
     "text": [
      "[('00', 'E'), ('00', 'O'), ('01', 'E'), ('01', 'O')]\n"
     ]
    }
   ],
   "source": [
    "p2 = PenguinsPairs(grid2)\n",
    "print(p2.actions(p2.initial))"
   ]
  },
  {
   "cell_type": "code",
   "execution_count": 108,
   "metadata": {},
   "outputs": [
    {
     "name": "stdout",
     "output_type": "stream",
     "text": [
      "Ação: ('00', 'E')\n",
      "## ## ## ## ## ## ## ## ##\n",
      "## .. .. .. .. .. .. .. ##\n",
      "## .. .. .. .. .. .. 00 ##\n",
      "## .. .. .. .. .. .. .. ##\n",
      "## .. .. () () () .. .. ##\n",
      "## .. .. .. .. .. .. .. ##\n",
      "## .. .. .. 01 .. .. .. ##\n",
      "## .. .. .. .. .. .. .. ##\n",
      "## ## ## ## ## ## ## ## ##\n",
      "Custo Total: 1\n",
      "Atingido o objectivo? False\n",
      "\n",
      "Ação: ('01', 'E')\n",
      "## ## ## ## ## ## ## ## ##\n",
      "## .. .. .. .. .. .. .. ##\n",
      "## .. .. .. .. .. .. 00 ##\n",
      "## .. .. .. .. .. .. .. ##\n",
      "## .. .. () () () .. .. ##\n",
      "## .. .. .. .. .. .. .. ##\n",
      "## .. .. .. .. .. .. 01 ##\n",
      "## .. .. .. .. .. .. .. ##\n",
      "## ## ## ## ## ## ## ## ##\n",
      "Custo Total: 2\n",
      "Atingido o objectivo? False\n",
      "\n",
      "Ação: ('00', 'S')\n",
      "## ## ## ## ## ## ## ## ##\n",
      "## .. .. .. .. .. .. .. ##\n",
      "## .. .. .. .. .. .. .. ##\n",
      "## .. .. .. .. .. .. .. ##\n",
      "## .. .. () () () .. .. ##\n",
      "## .. .. .. .. .. .. 00 ##\n",
      "## .. .. .. .. .. .. 01 ##\n",
      "## .. .. .. .. .. .. .. ##\n",
      "## ## ## ## ## ## ## ## ##\n",
      "Custo Total: 3\n",
      "Atingido o objectivo? True\n",
      "\n"
     ]
    },
    {
     "data": {
      "text/plain": [
       "True"
      ]
     },
     "execution_count": 108,
     "metadata": {},
     "output_type": "execute_result"
    }
   ],
   "source": [
    "p = PenguinsPairs()\n",
    "seq = [('00', 'E'),('01', 'E'),('00', 'S')]\n",
    "p.goal_test(p.executa(p.initial, seq, verbose=True)[0])"
   ]
  },
  {
   "cell_type": "code",
   "execution_count": 109,
   "metadata": {},
   "outputs": [],
   "source": [
    "# print(\"00\".isdigit())"
   ]
  },
  {
   "cell_type": "code",
   "execution_count": 110,
   "metadata": {},
   "outputs": [
    {
     "name": "stdout",
     "output_type": "stream",
     "text": [
      "[('00', 'E'), ('00', 'N'), ('00', 'O'), ('00', 'S'), ('01', 'E'), ('01', 'N'), ('01', 'O'), ('01', 'S')]\n",
      "Solução Larg-prim (grafo) com custo 3:\n",
      "[('00', 'E'), ('01', 'E'), ('00', 'S')]\n"
     ]
    }
   ],
   "source": [
    "line1 = \"## ## ## ## ## ## ## ## ##\\n\"\n",
    "line2 = \"## .. .. .. .. .. .. .. ##\\n\"\n",
    "line3 = \"## .. .. .. 00 .. .. .. ##\\n\"\n",
    "line4 = \"## .. .. .. .. .. .. .. ##\\n\"\n",
    "line5 = \"## .. .. ## ## ## .. .. ##\\n\"\n",
    "line6 = \"## .. .. .. .. .. .. .. ##\\n\"\n",
    "line7 = \"## .. .. 01 .. .. .. .. ##\\n\"\n",
    "line8 = \"## .. .. .. .. .. .. .. ##\\n\"\n",
    "line9 = \"## ## ## ## ## ## ## ## ##\\n\"\n",
    "grid2 = line1 + line2 + line3 + line4 + line5 + line6 + line7 + line8 + line9\n",
    "\n",
    "p = PenguinsPairs(grid2)\n",
    "print(p.actions(p.initial))\n",
    "resultado = breadth_first_graph_search(p)\n",
    "if resultado:\n",
    "    print(\"Solução Larg-prim (grafo) com custo\", str(resultado.path_cost) + \":\")\n",
    "    print(resultado.solution())\n",
    "else:\n",
    "    print(\"Sem solução!\")"
   ]
  },
  {
   "cell_type": "code",
   "execution_count": 111,
   "metadata": {},
   "outputs": [
    {
     "name": "stdout",
     "output_type": "stream",
     "text": [
      "[('00', 'E'), ('00', 'N'), ('00', 'O'), ('00', 'S'), ('01', 'E'), ('01', 'N'), ('01', 'O'), ('01', 'S'), ('02', 'N'), ('02', 'O'), ('02', 'S'), ('03', 'E'), ('03', 'N'), ('03', 'O'), ('03', 'S')]\n",
      "Solução Larg-prim (grafo) com custo 2:\n",
      "[('00', 'E'), ('00', 'S')]\n"
     ]
    }
   ],
   "source": [
    "line1 = \"## ## ## ## ## ## ## ## ##\\n\"\n",
    "line2 = \"## .. .. .. .. .. .. .. ##\\n\"\n",
    "line3 = \"## .. .. .. 00 .. .. .. ##\\n\"\n",
    "line4 = \"## .. 03 .. .. .. .. .. ##\\n\"\n",
    "line5 = \"## .. .. ## ## ## .. 02 ##\\n\"\n",
    "line6 = \"## .. .. .. .. .. .. .. ##\\n\"\n",
    "line7 = \"## .. .. 01 .. .. .. .. ##\\n\"\n",
    "line8 = \"## .. .. .. .. .. .. .. ##\\n\"\n",
    "line9 = \"## ## ## ## ## ## ## ## ##\\n\"\n",
    "grid2 = line1 + line2 + line3 + line4 + line5 + line6 + line7 + line8 + line9\n",
    "\n",
    "p = PenguinsPairs(grid2)\n",
    "print(p.actions(p.initial))\n",
    "resultado = breadth_first_graph_search(p)\n",
    "if resultado:\n",
    "    print(\"Solução Larg-prim (grafo) com custo\", str(resultado.path_cost) + \":\")\n",
    "    print(resultado.solution())\n",
    "else:\n",
    "    print(\"Sem solução!\")"
   ]
  },
  {
   "cell_type": "code",
   "execution_count": 112,
   "metadata": {},
   "outputs": [
    {
     "name": "stdout",
     "output_type": "stream",
     "text": [
      "Sem solução!\n",
      "[('00', 'E'), ('00', 'N'), ('01', 'E')]\n"
     ]
    }
   ],
   "source": [
    "line1 = \"## ## ## ## ## ## ## ## ##\\n\"\n",
    "line2 = \"## .. .. .. .. .. .. .. ##\\n\"\n",
    "line3 = \"## 00 .. .. .. .. .. .. ##\\n\"\n",
    "line4 = \"## ## ## ## ## ## ## ## ##\\n\"\n",
    "line5 = \"## 01 .. .. .. .. .. .. ##\\n\"\n",
    "line6 = \"## ## ## ## ## ## .. ## ##\\n\"\n",
    "line7 = \"## .. .. .. .. .. .. .. ##\\n\"\n",
    "line8 = \"## .. .. .. .. .. .. .. ##\\n\"\n",
    "line9 = \"## ## ## ## ## ## ## ## ##\\n\"\n",
    "grid3 = line1 + line2 + line3 + line4 + line5 + line6 + line7 + line8 + line9\n",
    "\n",
    "p = PenguinsPairs(grid3)\n",
    "resultado = breadth_first_graph_search(p)\n",
    "if resultado:\n",
    "    print(\"Solução Larg-prim (grafo) com custo\", str(resultado.path_cost) + \":\")\n",
    "    print(resultado.solution())\n",
    "else:\n",
    "    print(\"Sem solução!\")\n",
    "\n",
    "print(p.actions(p.initial))"
   ]
  },
  {
   "cell_type": "code",
   "execution_count": 113,
   "metadata": {},
   "outputs": [
    {
     "name": "stdout",
     "output_type": "stream",
     "text": [
      "Solução Larg-prim (grafo) com custo 4:\n",
      "[('00', 'S'), ('00', 'O'), ('03', 'O'), ('00', 'S')]\n",
      "[('00', 'N'), ('00', 'S'), ('03', 'N'), ('03', 'O')]\n"
     ]
    }
   ],
   "source": [
    "line1 = \"## ## ## ## ## ## ## ## ##\\n\"\n",
    "line2 = \"## .. .. .. .. .. .. .. ##\\n\"\n",
    "line3 = \"## ## .. .. .. .. .. .. ##\\n\"\n",
    "line4 = \"## () ## 00 ## ## .. .. ##\\n\"\n",
    "line5 = \"## .. .. .. .. .. .. .. ##\\n\"\n",
    "line6 = \"## .. ## ## ## ## .. .. ##\\n\"\n",
    "line7 = \"## .. .. .. .. .. .. .. ##\\n\"\n",
    "line8 = \"## .. .. 03 () .. .. .. ##\\n\"\n",
    "line9 = \"## ## ## ## ## ## ## ## ##\\n\"\n",
    "grid3 = line1 + line2 + line3 + line4 + line5 + line6 + line7 + line8 + line9\n",
    "\n",
    "p = PenguinsPairs(grid3)\n",
    "resultado = breadth_first_graph_search(p)\n",
    "if resultado:\n",
    "    print(\"Solução Larg-prim (grafo) com custo\", str(resultado.path_cost) + \":\")\n",
    "    print(resultado.solution())\n",
    "else:\n",
    "    print(\"Sem solução!\")\n",
    "\n",
    "print(p.actions(p.initial))"
   ]
  }
 ],
 "metadata": {
  "kernelspec": {
   "display_name": "base",
   "language": "python",
   "name": "python3"
  },
  "language_info": {
   "codemirror_mode": {
    "name": "ipython",
    "version": 3
   },
   "file_extension": ".py",
   "mimetype": "text/x-python",
   "name": "python",
   "nbconvert_exporter": "python",
   "pygments_lexer": "ipython3",
   "version": "3.12.7"
  }
 },
 "nbformat": 4,
 "nbformat_minor": 2
}

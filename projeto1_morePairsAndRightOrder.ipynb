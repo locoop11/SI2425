{
 "cells": [
  {
   "cell_type": "code",
   "execution_count": 223,
   "metadata": {},
   "outputs": [],
   "source": [
    "from searchPlus import *"
   ]
  },
  {
   "cell_type": "code",
   "execution_count": 224,
   "metadata": {},
   "outputs": [],
   "source": [
    "line1 = \"## ## ## ## ## ## ## ## ##\\n\"\n",
    "line2 = \"## .. .. .. .. .. .. .. ##\\n\"\n",
    "line3 = \"## .. .. .. 00 .. .. .. ##\\n\"\n",
    "line4 = \"## .. .. .. .. .. .. .. ##\\n\"\n",
    "line5 = \"## .. .. () () () .. .. ##\\n\"\n",
    "line6 = \"## .. .. .. .. .. .. .. ##\\n\"\n",
    "line7 = \"## .. .. .. 01 .. .. .. ##\\n\"\n",
    "line8 = \"## .. .. .. .. .. .. .. ##\\n\"\n",
    "line9 = \"## ## ## ## ## ## ## ## ##\\n\"\n",
    "grid = line1 + line2 + line3 + line4 + line5 + line6 + line7 + line8 + line9"
   ]
  },
  {
   "cell_type": "code",
   "execution_count": 225,
   "metadata": {},
   "outputs": [],
   "source": [
    "class PenguinsPairs(Problem):\n",
    "    def __init__(self, ice_map=grid):\n",
    "        self.initial = self.parse_grid(ice_map)\n",
    "        self.rows = len(self.initial)\n",
    "        self.cols = len(self.initial[0])\n",
    "        super().__init__(self.initial)\n",
    "\n",
    "\n",
    "    def parse_grid(self, ice_map):\n",
    "        return tuple(tuple(line.split()) for line in ice_map.strip().split(\"\\n\"))\n",
    "\n",
    "\n",
    "    def actions(self, state):\n",
    "        moves = []\n",
    "        directions = {'N': (-1, 0), 'S': (1, 0), 'E': (0, 1), 'O': (0, -1)}\n",
    "        \n",
    "        # penguins = sorted(p for row in state for p in row if p.isdigit())\n",
    "        penguins = [p for row in state for p in row if p.isdigit()]\n",
    "        \n",
    "        for penguin in penguins:\n",
    "            for i, row in enumerate(state):\n",
    "                for j, cell in enumerate(row):\n",
    "                    if cell == penguin:\n",
    "                        for direction, (di, dj) in directions.items():\n",
    "                            ni, nj = i + di, j + dj\n",
    "                            \n",
    "                            if not (0 <= ni < self.rows and 0 <= nj < self.cols) or state[ni][nj] in ('##', '()'):\n",
    "                                continue\n",
    "\n",
    "                            while 0 <= ni < self.rows and 0 <= nj < self.cols and state[ni][nj] not in ('()', '##'):\n",
    "                                if state[ni][nj].isdigit() and len(state[ni][nj]) == 2:\n",
    "                                    break\n",
    "                                ni += di\n",
    "                                nj += dj\n",
    "                            \n",
    "                            if 0 <= ni < self.rows and 0 <= nj < self.cols and state[ni][nj] not in ('()', penguin):\n",
    "                                moves.append((penguin, direction))\n",
    "\n",
    "        \n",
    "        \n",
    "        return sorted(moves, key=lambda x: (int(x[0]), x[1]))\n",
    "\n",
    "\n",
    "    def result(self, state, action):\n",
    "        penguin, direction = action\n",
    "        directions = {'N': (-1, 0), 'S': (1, 0), 'E': (0, 1), 'O': (0, -1)}\n",
    "        di, dj = directions[direction]\n",
    "        \n",
    "        new_state = [list(row) for row in state]\n",
    "        \n",
    "        for i in range(self.rows):\n",
    "            for j in range(self.cols):\n",
    "                if new_state[i][j] == penguin:\n",
    "                    ni, nj = i + di, j + dj\n",
    "                    while 0 <= ni < self.rows and 0 <= nj < self.cols and new_state[ni][nj] == \"..\":\n",
    "                        ni += di\n",
    "                        nj += dj\n",
    "                    ni -= di\n",
    "                    nj -= dj\n",
    "                    \n",
    "                    new_state[i][j] = \"..\"\n",
    "                    new_state[ni][nj] = penguin\n",
    "                    return tuple(tuple(row) for row in new_state)\n",
    "        \n",
    "        return state\n",
    "    \n",
    "\n",
    "    def goal_test(self, state):\n",
    "        penguin_positions = [(i, j) for i in range(self.rows) for j in range(self.cols) if state[i][j].isdigit()]\n",
    "        paired = set()\n",
    "        valid_pairs = True\n",
    "\n",
    "        for i, j in penguin_positions:\n",
    "            if state[i][j] in paired:\n",
    "                continue\n",
    "            if i + 1 < self.rows and state[i + 1][j].isdigit():\n",
    "                if int(state[i][j]) >= int(state[i + 1][j]):\n",
    "                    valid_pairs = False\n",
    "                    break\n",
    "                paired.add(state[i][j])\n",
    "                paired.add(state[i + 1][j])\n",
    "            else:\n",
    "                valid_pairs = False\n",
    "                break\n",
    "\n",
    "        return len(paired) == len(penguin_positions) and len(paired) % 2 == 0 and valid_pairs\n",
    "\n",
    "\n",
    "    def display(self, state):\n",
    "        return \"\\n\".join(\" \".join(row) for row in state) + \"\\n\"\n",
    "    \n",
    "    \n",
    "    def executa(self, state, actions_list, verbose=False):\n",
    "        cost = 0\n",
    "        for a in actions_list:\n",
    "            seg = self.result(state, a)\n",
    "            cost = self.path_cost(cost, state, a, seg)\n",
    "            state = seg\n",
    "            obj = self.goal_test(state)\n",
    "            if verbose:\n",
    "                print('Ação:', a)\n",
    "                print(self.display(state), end='')\n",
    "                print('Custo Total:', cost)\n",
    "                print('Atingido o objectivo?', obj)\n",
    "                print()\n",
    "            if obj:\n",
    "                break\n",
    "        return (state, cost, obj)\n"
   ]
  },
  {
   "cell_type": "code",
   "execution_count": 226,
   "metadata": {},
   "outputs": [
    {
     "name": "stdout",
     "output_type": "stream",
     "text": [
      "[('00', 'E'), ('00', 'N'), ('00', 'O'), ('01', 'E'), ('01', 'O'), ('01', 'S')]\n"
     ]
    }
   ],
   "source": [
    "p = PenguinsPairs(grid)\n",
    "print(p.actions(p.initial))"
   ]
  },
  {
   "cell_type": "code",
   "execution_count": 227,
   "metadata": {},
   "outputs": [
    {
     "name": "stdout",
     "output_type": "stream",
     "text": [
      "(('##', '##', '##', '##', '##', '##', '##', '##', '##'), ('##', '..', '..', '..', '..', '..', '..', '..', '##'), ('##', '..', '..', '..', '00', '..', '..', '..', '##'), ('##', '..', '..', '..', '..', '..', '..', '..', '##'), ('##', '..', '..', '()', '()', '()', '..', '..', '##'), ('##', '..', '..', '..', '..', '..', '..', '..', '##'), ('##', '..', '..', '..', '01', '..', '..', '..', '##'), ('##', '..', '..', '..', '..', '..', '..', '..', '##'), ('##', '##', '##', '##', '##', '##', '##', '##', '##'))\n"
     ]
    }
   ],
   "source": [
    "print(p.initial)"
   ]
  },
  {
   "cell_type": "code",
   "execution_count": 228,
   "metadata": {},
   "outputs": [
    {
     "name": "stdout",
     "output_type": "stream",
     "text": [
      "## ## ## ## ## ## ## ## ##\n",
      "## .. .. .. .. .. .. .. ##\n",
      "## .. .. .. 00 .. .. .. ##\n",
      "## .. .. .. .. .. .. .. ##\n",
      "## .. .. () () () .. .. ##\n",
      "## .. .. .. .. .. .. .. ##\n",
      "## .. .. .. 01 .. .. .. ##\n",
      "## .. .. .. .. .. .. .. ##\n",
      "## ## ## ## ## ## ## ## ##\n",
      "\n"
     ]
    }
   ],
   "source": [
    "print(p.display(p.initial))"
   ]
  },
  {
   "cell_type": "code",
   "execution_count": 229,
   "metadata": {},
   "outputs": [],
   "source": [
    "line1 = \"## () () () () () () () ##\\n\"\n",
    "line2 = \"## .. .. .. .. .. .. .. ##\\n\"\n",
    "line3 = \"## .. .. .. 00 .. .. .. ##\\n\"\n",
    "line4 = \"## .. .. .. .. .. .. .. ##\\n\"\n",
    "line5 = \"## .. .. () () () .. .. ##\\n\"\n",
    "line6 = \"## .. .. .. .. .. .. .. ##\\n\"\n",
    "line7 = \"## .. .. .. 01 .. .. .. ##\\n\"\n",
    "line8 = \"## .. .. .. .. .. .. .. ##\\n\"\n",
    "line9 = \"## () () () () () () () ##\\n\"\n",
    "grid2 = line1 + line2 + line3 + line4 + line5 + line6 + line7 + line8 + line9"
   ]
  },
  {
   "cell_type": "code",
   "execution_count": 230,
   "metadata": {},
   "outputs": [
    {
     "name": "stdout",
     "output_type": "stream",
     "text": [
      "[('00', 'E'), ('00', 'O'), ('01', 'E'), ('01', 'O')]\n"
     ]
    }
   ],
   "source": [
    "p2 = PenguinsPairs(grid2)\n",
    "print(p2.actions(p2.initial))"
   ]
  },
  {
   "cell_type": "code",
   "execution_count": 231,
   "metadata": {},
   "outputs": [
    {
     "name": "stdout",
     "output_type": "stream",
     "text": [
      "Ação: ('00', 'E')\n",
      "## ## ## ## ## ## ## ## ##\n",
      "## .. .. .. .. .. .. .. ##\n",
      "## .. .. .. .. .. .. 00 ##\n",
      "## .. .. .. .. .. .. .. ##\n",
      "## .. .. () () () .. .. ##\n",
      "## .. .. .. .. .. .. .. ##\n",
      "## .. .. .. 01 .. .. .. ##\n",
      "## .. .. .. .. .. .. .. ##\n",
      "## ## ## ## ## ## ## ## ##\n",
      "Custo Total: 1\n",
      "Atingido o objectivo? False\n",
      "\n",
      "Ação: ('01', 'E')\n",
      "## ## ## ## ## ## ## ## ##\n",
      "## .. .. .. .. .. .. .. ##\n",
      "## .. .. .. .. .. .. 00 ##\n",
      "## .. .. .. .. .. .. .. ##\n",
      "## .. .. () () () .. .. ##\n",
      "## .. .. .. .. .. .. .. ##\n",
      "## .. .. .. .. .. .. 01 ##\n",
      "## .. .. .. .. .. .. .. ##\n",
      "## ## ## ## ## ## ## ## ##\n",
      "Custo Total: 2\n",
      "Atingido o objectivo? False\n",
      "\n",
      "Ação: ('00', 'S')\n",
      "## ## ## ## ## ## ## ## ##\n",
      "## .. .. .. .. .. .. .. ##\n",
      "## .. .. .. .. .. .. .. ##\n",
      "## .. .. .. .. .. .. .. ##\n",
      "## .. .. () () () .. .. ##\n",
      "## .. .. .. .. .. .. 00 ##\n",
      "## .. .. .. .. .. .. 01 ##\n",
      "## .. .. .. .. .. .. .. ##\n",
      "## ## ## ## ## ## ## ## ##\n",
      "Custo Total: 3\n",
      "Atingido o objectivo? True\n",
      "\n"
     ]
    },
    {
     "data": {
      "text/plain": [
       "True"
      ]
     },
     "execution_count": 231,
     "metadata": {},
     "output_type": "execute_result"
    }
   ],
   "source": [
    "p = PenguinsPairs()\n",
    "seq = [('00', 'E'),('01', 'E'),('00', 'S')]\n",
    "p.goal_test(p.executa(p.initial, seq, verbose=True)[0])"
   ]
  },
  {
   "cell_type": "code",
   "execution_count": 232,
   "metadata": {},
   "outputs": [],
   "source": [
    "# print(\"00\".isdigit())"
   ]
  },
  {
   "cell_type": "code",
   "execution_count": 233,
   "metadata": {},
   "outputs": [
    {
     "name": "stdout",
     "output_type": "stream",
     "text": [
      "[('00', 'E'), ('00', 'N'), ('00', 'O'), ('00', 'S'), ('01', 'E'), ('01', 'N'), ('01', 'O'), ('01', 'S')]\n",
      "Solução Larg-prim (grafo) com custo 3:\n",
      "[('00', 'E'), ('01', 'E'), ('00', 'S')]\n"
     ]
    }
   ],
   "source": [
    "line1 = \"## ## ## ## ## ## ## ## ##\\n\"\n",
    "line2 = \"## .. .. .. .. .. .. .. ##\\n\"\n",
    "line3 = \"## .. .. .. 00 .. .. .. ##\\n\"\n",
    "line4 = \"## .. .. .. .. .. .. .. ##\\n\"\n",
    "line5 = \"## .. .. ## ## ## .. .. ##\\n\"\n",
    "line6 = \"## .. .. .. .. .. .. .. ##\\n\"\n",
    "line7 = \"## .. .. 01 .. .. .. .. ##\\n\"\n",
    "line8 = \"## .. .. .. .. .. .. .. ##\\n\"\n",
    "line9 = \"## ## ## ## ## ## ## ## ##\\n\"\n",
    "grid2 = line1 + line2 + line3 + line4 + line5 + line6 + line7 + line8 + line9\n",
    "\n",
    "p = PenguinsPairs(grid2)\n",
    "print(p.actions(p.initial))\n",
    "resultado = breadth_first_graph_search(p)\n",
    "if resultado:\n",
    "    print(\"Solução Larg-prim (grafo) com custo\", str(resultado.path_cost) + \":\")\n",
    "    print(resultado.solution())\n",
    "else:\n",
    "    print(\"Sem solução!\")"
   ]
  },
  {
   "cell_type": "code",
   "execution_count": 234,
   "metadata": {},
   "outputs": [
    {
     "name": "stdout",
     "output_type": "stream",
     "text": [
      "Ação: ('00', 'E')\n",
      "## ## ## ## ## ## ## ## ##\n",
      "## .. .. .. .. .. .. .. ##\n",
      "## .. .. .. .. .. .. 00 ##\n",
      "## .. .. .. .. .. .. .. ##\n",
      "## .. .. ## ## ## .. .. ##\n",
      "## .. .. .. .. .. .. .. ##\n",
      "## .. .. 01 .. .. .. .. ##\n",
      "## .. .. .. .. .. .. .. ##\n",
      "## ## ## ## ## ## ## ## ##\n",
      "Custo Total: 1\n",
      "Atingido o objectivo? False\n",
      "\n",
      "Ação: ('01', 'E')\n",
      "## ## ## ## ## ## ## ## ##\n",
      "## .. .. .. .. .. .. .. ##\n",
      "## .. .. .. .. .. .. 00 ##\n",
      "## .. .. .. .. .. .. .. ##\n",
      "## .. .. ## ## ## .. .. ##\n",
      "## .. .. .. .. .. .. .. ##\n",
      "## .. .. .. .. .. .. 01 ##\n",
      "## .. .. .. .. .. .. .. ##\n",
      "## ## ## ## ## ## ## ## ##\n",
      "Custo Total: 2\n",
      "Atingido o objectivo? False\n",
      "\n",
      "Ação: ('00', 'S')\n",
      "## ## ## ## ## ## ## ## ##\n",
      "## .. .. .. .. .. .. .. ##\n",
      "## .. .. .. .. .. .. .. ##\n",
      "## .. .. .. .. .. .. .. ##\n",
      "## .. .. ## ## ## .. .. ##\n",
      "## .. .. .. .. .. .. 00 ##\n",
      "## .. .. .. .. .. .. 01 ##\n",
      "## .. .. .. .. .. .. .. ##\n",
      "## ## ## ## ## ## ## ## ##\n",
      "Custo Total: 3\n",
      "Atingido o objectivo? True\n",
      "\n"
     ]
    },
    {
     "data": {
      "text/plain": [
       "True"
      ]
     },
     "execution_count": 234,
     "metadata": {},
     "output_type": "execute_result"
    }
   ],
   "source": [
    "p = PenguinsPairs(grid2)\n",
    "seq = [('00', 'E'), ('01', 'E'), ('00', 'S')]\n",
    "p.goal_test(p.executa(p.initial, seq, verbose=True)[0])"
   ]
  },
  {
   "cell_type": "code",
   "execution_count": 235,
   "metadata": {},
   "outputs": [
    {
     "name": "stdout",
     "output_type": "stream",
     "text": [
      "[('00', 'E'), ('00', 'N'), ('00', 'O'), ('00', 'S'), ('01', 'E'), ('01', 'N'), ('01', 'O'), ('01', 'S'), ('02', 'N'), ('02', 'O'), ('02', 'S'), ('03', 'E'), ('03', 'N'), ('03', 'O'), ('03', 'S')]\n",
      "Solução Larg-prim (grafo) com custo 4:\n",
      "[('00', 'E'), ('02', 'S'), ('01', 'E'), ('03', 'E')]\n"
     ]
    }
   ],
   "source": [
    "line1 = \"## ## ## ## ## ## ## ## ##\\n\"\n",
    "line2 = \"## .. .. .. .. .. .. .. ##\\n\"\n",
    "line3 = \"## .. .. .. 00 .. .. .. ##\\n\"\n",
    "line4 = \"## .. 03 .. .. .. .. .. ##\\n\"\n",
    "line5 = \"## .. .. ## ## ## .. 02 ##\\n\"\n",
    "line6 = \"## .. .. .. .. .. .. .. ##\\n\"\n",
    "line7 = \"## .. .. 01 .. .. .. .. ##\\n\"\n",
    "line8 = \"## .. .. .. .. .. .. .. ##\\n\"\n",
    "line9 = \"## ## ## ## ## ## ## ## ##\\n\"\n",
    "grid2 = line1 + line2 + line3 + line4 + line5 + line6 + line7 + line8 + line9\n",
    "\n",
    "p = PenguinsPairs(grid2)\n",
    "print(p.actions(p.initial))\n",
    "resultado = breadth_first_graph_search(p)\n",
    "if resultado:\n",
    "    print(\"Solução Larg-prim (grafo) com custo\", str(resultado.path_cost) + \":\")\n",
    "    print(resultado.solution())\n",
    "else:\n",
    "    print(\"Sem solução!\")"
   ]
  },
  {
   "cell_type": "code",
   "execution_count": 236,
   "metadata": {},
   "outputs": [],
   "source": [
    "# line1 = \"## ## ## ## ## ## ## ## ##\\n\"\n",
    "# line2 = \"## 01 .. 02 .. .. 03 .. ##\\n\"\n",
    "# line3 = \"## .. .. .. .. .. .. .. ##\\n\"\n",
    "# line4 = \"## .. .. .. .. .. .. .. ##\\n\"\n",
    "# line5 = \"## .. .. ## ## ## .. .. ##\\n\"\n",
    "# line6 = \"## .. .. .. .. .. .. .. ##\\n\"\n",
    "# line7 = \"## .. .. .. 04 .. .. .. ##\\n\"\n",
    "# line8 = \"## .. .. .. .. .. .. .. ##\\n\"\n",
    "# line9 = \"## ## ## ## ## ## ## ## ##\\n\"\n",
    "# grid2 = line1 + line2 + line3 + line4 + line5 + line6 + line7 + line8 + line9\n",
    "\n",
    "# p = PenguinsPairs(grid2)\n",
    "# print(p.actions(p.initial))\n",
    "# resultado = breadth_first_graph_search(p)\n",
    "# if resultado:\n",
    "#     print(\"Solução Larg-prim (grafo) com custo\", str(resultado.path_cost) + \":\")\n",
    "#     print(resultado.solution())\n",
    "# else:\n",
    "#     print(\"Sem solução!\")"
   ]
  },
  {
   "cell_type": "code",
   "execution_count": 237,
   "metadata": {},
   "outputs": [
    {
     "name": "stdout",
     "output_type": "stream",
     "text": [
      "[('00', 'E'), ('00', 'S'), ('01', 'E'), ('01', 'O'), ('01', 'S'), ('02', 'E'), ('02', 'O'), ('02', 'S'), ('03', 'E'), ('03', 'O'), ('03', 'S'), ('04', 'E'), ('04', 'O'), ('04', 'S'), ('05', 'E'), ('05', 'O'), ('05', 'S'), ('06', 'O'), ('06', 'S'), ('10', 'E'), ('10', 'N'), ('10', 'S'), ('11', 'E'), ('11', 'N'), ('11', 'O'), ('11', 'S'), ('12', 'E'), ('12', 'N'), ('12', 'O'), ('12', 'S'), ('13', 'E'), ('13', 'N'), ('13', 'O'), ('13', 'S'), ('14', 'E'), ('14', 'N'), ('14', 'O'), ('14', 'S'), ('15', 'E'), ('15', 'N'), ('15', 'O'), ('15', 'S'), ('16', 'N'), ('16', 'O'), ('16', 'S'), ('20', 'E'), ('20', 'N'), ('20', 'S'), ('21', 'E'), ('21', 'N'), ('21', 'O'), ('21', 'S'), ('22', 'E'), ('22', 'N'), ('22', 'O'), ('22', 'S'), ('23', 'E'), ('23', 'N'), ('23', 'O'), ('23', 'S'), ('24', 'E'), ('24', 'N'), ('24', 'O'), ('24', 'S'), ('25', 'E'), ('25', 'N'), ('25', 'O'), ('25', 'S'), ('26', 'N'), ('26', 'O'), ('26', 'S'), ('30', 'E'), ('30', 'N'), ('30', 'S'), ('31', 'E'), ('31', 'N'), ('31', 'O'), ('31', 'S'), ('32', 'E'), ('32', 'N'), ('32', 'O'), ('32', 'S'), ('33', 'E'), ('33', 'N'), ('33', 'O'), ('33', 'S'), ('34', 'E'), ('34', 'N'), ('34', 'O'), ('34', 'S'), ('35', 'E'), ('35', 'N'), ('35', 'O'), ('35', 'S'), ('36', 'N'), ('36', 'O'), ('36', 'S'), ('40', 'E'), ('40', 'N'), ('40', 'S'), ('41', 'E'), ('41', 'N'), ('41', 'O'), ('41', 'S'), ('42', 'E'), ('42', 'N'), ('42', 'O'), ('42', 'S'), ('43', 'E'), ('43', 'N'), ('43', 'O'), ('43', 'S'), ('44', 'E'), ('44', 'N'), ('44', 'O'), ('44', 'S'), ('45', 'E'), ('45', 'N'), ('45', 'O'), ('45', 'S'), ('46', 'N'), ('46', 'O'), ('46', 'S'), ('50', 'E'), ('50', 'N'), ('50', 'S'), ('51', 'E'), ('51', 'N'), ('51', 'O'), ('51', 'S'), ('52', 'E'), ('52', 'N'), ('52', 'O'), ('52', 'S'), ('53', 'E'), ('53', 'N'), ('53', 'O'), ('53', 'S'), ('54', 'E'), ('54', 'N'), ('54', 'O'), ('54', 'S'), ('55', 'E'), ('55', 'N'), ('55', 'O'), ('55', 'S'), ('56', 'N'), ('56', 'O'), ('56', 'S'), ('60', 'E'), ('60', 'N'), ('61', 'E'), ('61', 'N'), ('61', 'O'), ('62', 'E'), ('62', 'N'), ('62', 'O'), ('63', 'E'), ('63', 'N'), ('63', 'O'), ('64', 'E'), ('64', 'N'), ('64', 'O'), ('65', 'E'), ('65', 'N'), ('65', 'O'), ('66', 'N'), ('66', 'O')]\n",
      "Sem solução!\n"
     ]
    }
   ],
   "source": [
    "line1 = \"## ## ## ## ## ## ## ## ##\\n\"\n",
    "line2 = \"## 00 01 02 03 04 05 06 ##\\n\"\n",
    "line3 = \"## 10 11 12 13 14 15 16 ##\\n\"\n",
    "line4 = \"## 20 21 22 23 24 25 26 ##\\n\"\n",
    "line5 = \"## 30 31 32 33 34 35 36 ##\\n\"\n",
    "line6 = \"## 40 41 42 43 44 45 46 ##\\n\"\n",
    "line7 = \"## 50 51 52 53 54 55 56 ##\\n\"\n",
    "line8 = \"## 60 61 62 63 64 65 66 ##\\n\"\n",
    "line9 = \"## ## ## ## ## ## ## ## ##\\n\"\n",
    "grid2 = line1 + line2 + line3 + line4 + line5 + line6 + line7 + line8 + line9\n",
    "\n",
    "p = PenguinsPairs(grid2)\n",
    "print(p.actions(p.initial))\n",
    "resultado = breadth_first_graph_search(p)\n",
    "if resultado:\n",
    "    print(\"Solução Larg-prim (grafo) com custo\", str(resultado.path_cost) + \":\")\n",
    "    print(resultado.solution())\n",
    "else:\n",
    "    print(\"Sem solução!\")"
   ]
  },
  {
   "cell_type": "code",
   "execution_count": 238,
   "metadata": {},
   "outputs": [
    {
     "name": "stdout",
     "output_type": "stream",
     "text": [
      "Sem solução!\n",
      "[('00', 'E'), ('00', 'N'), ('01', 'E')]\n"
     ]
    }
   ],
   "source": [
    "line1 = \"## ## ## ## ## ## ## ## ##\\n\"\n",
    "line2 = \"## .. .. .. .. .. .. .. ##\\n\"\n",
    "line3 = \"## 00 .. .. .. .. .. .. ##\\n\"\n",
    "line4 = \"## ## ## ## ## ## ## ## ##\\n\"\n",
    "line5 = \"## 01 .. .. .. .. .. .. ##\\n\"\n",
    "line6 = \"## ## ## ## ## ## .. ## ##\\n\"\n",
    "line7 = \"## .. .. .. .. .. .. .. ##\\n\"\n",
    "line8 = \"## .. .. .. .. .. .. .. ##\\n\"\n",
    "line9 = \"## ## ## ## ## ## ## ## ##\\n\"\n",
    "grid3 = line1 + line2 + line3 + line4 + line5 + line6 + line7 + line8 + line9\n",
    "\n",
    "p = PenguinsPairs(grid3)\n",
    "resultado = breadth_first_graph_search(p)\n",
    "if resultado:\n",
    "    print(\"Solução Larg-prim (grafo) com custo\", str(resultado.path_cost) + \":\")\n",
    "    print(resultado.solution())\n",
    "else:\n",
    "    print(\"Sem solução!\")\n",
    "\n",
    "print(p.actions(p.initial))"
   ]
  },
  {
   "cell_type": "code",
   "execution_count": 239,
   "metadata": {},
   "outputs": [
    {
     "name": "stdout",
     "output_type": "stream",
     "text": [
      "Solução Larg-prim (grafo) com custo 4:\n",
      "[('00', 'S'), ('00', 'O'), ('03', 'O'), ('00', 'S')]\n",
      "[('00', 'N'), ('00', 'S'), ('03', 'N'), ('03', 'O')]\n"
     ]
    }
   ],
   "source": [
    "line1 = \"## ## ## ## ## ## ## ## ##\\n\"\n",
    "line2 = \"## .. .. .. .. .. .. .. ##\\n\"\n",
    "line3 = \"## ## .. .. .. .. .. .. ##\\n\"\n",
    "line4 = \"## () ## 00 ## ## .. .. ##\\n\"\n",
    "line5 = \"## .. .. .. .. .. .. .. ##\\n\"\n",
    "line6 = \"## .. ## ## ## ## .. .. ##\\n\"\n",
    "line7 = \"## .. .. .. .. .. .. .. ##\\n\"\n",
    "line8 = \"## .. .. 03 () .. .. .. ##\\n\"\n",
    "line9 = \"## ## ## ## ## ## ## ## ##\\n\"\n",
    "grid3 = line1 + line2 + line3 + line4 + line5 + line6 + line7 + line8 + line9\n",
    "\n",
    "p = PenguinsPairs(grid3)\n",
    "resultado = breadth_first_graph_search(p)\n",
    "if resultado:\n",
    "    print(\"Solução Larg-prim (grafo) com custo\", str(resultado.path_cost) + \":\")\n",
    "    print(resultado.solution())\n",
    "else:\n",
    "    print(\"Sem solução!\")\n",
    "\n",
    "print(p.actions(p.initial))"
   ]
  }
 ],
 "metadata": {
  "kernelspec": {
   "display_name": "base",
   "language": "python",
   "name": "python3"
  },
  "language_info": {
   "codemirror_mode": {
    "name": "ipython",
    "version": 3
   },
   "file_extension": ".py",
   "mimetype": "text/x-python",
   "name": "python",
   "nbconvert_exporter": "python",
   "pygments_lexer": "ipython3",
   "version": "3.12.7"
  }
 },
 "nbformat": 4,
 "nbformat_minor": 2
}

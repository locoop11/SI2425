{
 "cells": [
  {
   "cell_type": "code",
   "execution_count": 158,
   "metadata": {},
   "outputs": [],
   "source": [
    "from searchPlus import *"
   ]
  },
  {
   "cell_type": "code",
   "execution_count": 159,
   "metadata": {},
   "outputs": [],
   "source": [
    "line1 = \"## ## ## ## ## ## ## ## ##\\n\"\n",
    "line2 = \"## .. .. .. .. .. .. .. ##\\n\"\n",
    "line3 = \"## .. .. .. 00 .. .. .. ##\\n\"\n",
    "line4 = \"## .. .. .. .. .. .. .. ##\\n\"\n",
    "line5 = \"## .. .. () () () .. .. ##\\n\"\n",
    "line6 = \"## .. .. .. .. .. .. .. ##\\n\"\n",
    "line7 = \"## .. .. .. 01 .. .. .. ##\\n\"\n",
    "line8 = \"## .. .. .. .. .. .. .. ##\\n\"\n",
    "line9 = \"## ## ## ## ## ## ## ## ##\\n\"\n",
    "grid = line1 + line2 + line3 + line4 + line5 + line6 + line7 + line8 + line9"
   ]
  },
  {
   "cell_type": "code",
   "execution_count": 160,
   "metadata": {},
   "outputs": [],
   "source": [
    "class PenguinsPairs(Problem):\n",
    "    def __init__(self, ice_map=grid):\n",
    "        self.initial = self.parse_grid(ice_map)\n",
    "        self.rows = len(self.initial)\n",
    "        self.cols = len(self.initial[0])\n",
    "        super().__init__(self.initial)\n",
    "\n",
    "\n",
    "    def parse_grid(self, ice_map):\n",
    "        return tuple(tuple(line.split()) for line in ice_map.strip().split(\"\\n\"))\n",
    "\n",
    "\n",
    "    # def actions(self, state):\n",
    "    #     moves = []\n",
    "    #     directions = {'N': (-1, 0), 'S': (1, 0), 'E': (0, 1), 'O': (0, -1)}\n",
    "        \n",
    "    #     for penguin in [p for row in state for p in row if p.isdigit()]:\n",
    "    #         for i in range(self.rows):\n",
    "    #             for j in range(self.cols):\n",
    "    #                 if state[i][j] == penguin:\n",
    "    #                     for d, (di, dj) in directions.items():\n",
    "    #                         ni, nj = i + di, j + dj\n",
    "    #                         while 0 <= ni < self.rows and 0 <= nj < self.cols and state[ni][nj] == \"..\":\n",
    "    #                             ni += di\n",
    "    #                             nj += dj\n",
    "    #                         if 0 <= ni < self.rows and 0 <= nj < self.cols and state[ni][nj] not in ('()', penguin):\n",
    "    #                             moves.append((penguin, d))\n",
    "\n",
    "    #     return sorted(moves)\n",
    "\n",
    "    def actions(self, state):\n",
    "        moves = []\n",
    "        directions = {'N': (-1, 0), 'S': (1, 0), 'E': (0, 1), 'O': (0, -1)}\n",
    "\n",
    "        for i in range(self.rows):\n",
    "            for j in range(self.cols):\n",
    "                if state[i][j].isdigit() and len(state[i][j]) == 2:  # Знайшли пінгвіна (00-99)\n",
    "                    penguin = state[i][j]\n",
    "                    for d, (di, dj) in directions.items():\n",
    "                        ni, nj = i + di, j + dj\n",
    "\n",
    "                        # Якщо наступна клітинка одразу ## або (), рух неможливий\n",
    "                        if not (0 <= ni < self.rows and 0 <= nj < self.cols) or state[ni][nj] in ('##'):\n",
    "                            continue\n",
    "\n",
    "                        # Ковзаємо доти, доки не знайдемо ##, (), іншого пінгвіна або межу\n",
    "                        while 0 <= ni < self.rows and 0 <= nj < self.cols and state[ni][nj] not in ('##'):\n",
    "                            if state[ni][nj].isdigit() and len(state[ni][nj]) == 2:  # Інший пінгвін\n",
    "                                break\n",
    "                            ni += di\n",
    "                            nj += dj\n",
    "\n",
    "                        # Остання безпечна позиція перед `##`, `()`, або іншим пінгвіном\n",
    "                        ni -= di\n",
    "                        nj -= dj\n",
    "\n",
    "                        # Якщо кінцева позиція змінилася, додаємо рух\n",
    "                        if (ni, nj) != (i, j):\n",
    "                            moves.append((penguin, d))\n",
    "\n",
    "        return sorted(moves)\n",
    "\n",
    "\n",
    "\n",
    "\n",
    "    def result(self, state, action):\n",
    "        penguin, direction = action\n",
    "        # print(action)\n",
    "        directions = {'N': (-1, 0), 'S': (1, 0), 'E': (0, 1), 'O': (0, -1)}\n",
    "        di, dj = directions[direction]\n",
    "        \n",
    "        new_state = [list(row) for row in state]\n",
    "        \n",
    "        if action in self.actions(state):\n",
    "            for i in range(self.rows):\n",
    "                for j in range(self.cols):\n",
    "                    if new_state[i][j] == penguin:\n",
    "                        ni, nj = i + di, j + dj\n",
    "                        while 0 <= ni < self.rows and 0 <= nj < self.cols and new_state[ni][nj] == \"..\":\n",
    "                            ni += di\n",
    "                            nj += dj\n",
    "                        ni -= di\n",
    "                        nj -= dj\n",
    "                        \n",
    "                        new_state[i][j] = \"..\"\n",
    "                        new_state[ni][nj] = penguin\n",
    "                        return tuple(tuple(row) for row in new_state)\n",
    "        \n",
    "        return state\n",
    "\n",
    "\n",
    "    # def goal_test(self, state):\n",
    "    #     return any(\n",
    "    #         # state[i][j] not in (\"..\", \"##\", \"()\") and state[i+1][j] not in (\"..\", \"##\", \"()\") and \n",
    "    #         state[i][j].isdigit() and state[i+1][j].isdigit() and state[i][j] != state[i+1][j]\n",
    "    #         for i in range(self.rows - 1) for j in range(self.cols)\n",
    "    #     )\n",
    "    #     # return any(\n",
    "    #     #     state[i][j] == \"00\" and state[i+1][j] == \"01\"\n",
    "    #     #     for i in range(self.rows - 1) for j in range(self.cols)\n",
    "    #     # )\n",
    "\n",
    "    def goal_test(self, state):\n",
    "        for i in range(self.rows - 1):\n",
    "            for j in range(self.cols):\n",
    "                if state[i][j].isdigit() and state[i+1][j].isdigit():\n",
    "                    first = state[i][j]\n",
    "                    second = state[i+1][j]\n",
    "                    \n",
    "                    if int(first) < int(second):\n",
    "                        return True\n",
    "        \n",
    "        return False\n",
    "\n",
    "\n",
    "    def display(self, state):\n",
    "        return \"\\n\".join(\" \".join(row) for row in state) + \"\\n\"\n",
    "    \n",
    "\n",
    "    def executa(self, state, actions_list, verbose=False):\n",
    "        \"\"\"Executa uma sequência de acções a partir do estado devolvendo o triplo formado pelo estado final, \n",
    "        pelo custo acumulado e pelo booleano que indica se o objectivo foi ou não atingido. Se o objectivo \n",
    "        for atingido antes da sequência ser atingida, devolve-se o estado e o custo corrente.\n",
    "        Há o modo verboso e o não verboso, por defeito.\"\"\"\n",
    "        cost = 0\n",
    "        for a in actions_list:\n",
    "            seg = self.result(state, a)\n",
    "            cost = self.path_cost(cost, state, a, seg)\n",
    "            state = seg\n",
    "            obj = self.goal_test(state)\n",
    "            if verbose:\n",
    "                print('Ação:', a)\n",
    "                print(self.display(state), end='')\n",
    "                print('Custo Total:', cost)\n",
    "                print('Atingido o objectivo?', obj)\n",
    "                print()\n",
    "            if obj:\n",
    "                break\n",
    "        return (state, cost, obj)"
   ]
  },
  {
   "cell_type": "code",
   "execution_count": 161,
   "metadata": {},
   "outputs": [
    {
     "name": "stdout",
     "output_type": "stream",
     "text": [
      "[('00', 'E'), ('00', 'N'), ('00', 'O'), ('00', 'S'), ('01', 'E'), ('01', 'N'), ('01', 'O'), ('01', 'S')]\n"
     ]
    }
   ],
   "source": [
    "p = PenguinsPairs(grid)\n",
    "print(p.actions(p.initial))"
   ]
  },
  {
   "cell_type": "code",
   "execution_count": 162,
   "metadata": {},
   "outputs": [
    {
     "name": "stdout",
     "output_type": "stream",
     "text": [
      "## ## ## ## ## ## ## ## ##\n",
      "## .. .. .. .. .. .. .. ##\n",
      "## .. .. .. 00 .. .. .. ##\n",
      "## .. .. .. .. .. .. .. ##\n",
      "## .. .. () () () .. .. ##\n",
      "## .. .. .. .. .. .. .. ##\n",
      "## .. .. .. 01 .. .. .. ##\n",
      "## .. .. .. .. .. .. .. ##\n",
      "## ## ## ## ## ## ## ## ##\n",
      "\n"
     ]
    }
   ],
   "source": [
    "print(p.display(p.initial))"
   ]
  },
  {
   "cell_type": "code",
   "execution_count": 163,
   "metadata": {},
   "outputs": [],
   "source": [
    "line1 = \"## () () () () () () () ##\\n\"\n",
    "line2 = \"## .. .. .. .. .. .. .. ##\\n\"\n",
    "line3 = \"## .. .. .. 00 .. .. .. ##\\n\"\n",
    "line4 = \"## .. .. .. .. .. .. .. ##\\n\"\n",
    "line5 = \"## .. .. () () () .. .. ##\\n\"\n",
    "line6 = \"## .. .. .. .. .. .. .. ##\\n\"\n",
    "line7 = \"## .. .. .. 01 .. .. .. ##\\n\"\n",
    "line8 = \"## .. .. .. .. .. .. .. ##\\n\"\n",
    "line9 = \"## () () () () () () () ##\\n\"\n",
    "grid2 = line1 + line2 + line3 + line4 + line5 + line6 + line7 + line8 + line9"
   ]
  },
  {
   "cell_type": "code",
   "execution_count": 164,
   "metadata": {},
   "outputs": [
    {
     "name": "stdout",
     "output_type": "stream",
     "text": [
      "[('00', 'E'), ('00', 'N'), ('00', 'O'), ('00', 'S'), ('01', 'E'), ('01', 'N'), ('01', 'O'), ('01', 'S')]\n"
     ]
    }
   ],
   "source": [
    "p2 = PenguinsPairs(grid2)\n",
    "print(p2.actions(p2.initial))"
   ]
  },
  {
   "cell_type": "code",
   "execution_count": 165,
   "metadata": {},
   "outputs": [
    {
     "name": "stdout",
     "output_type": "stream",
     "text": [
      "Ação: ('00', 'E')\n",
      "## ## ## ## ## ## ## ## ##\n",
      "## .. .. .. .. .. .. .. ##\n",
      "## .. .. .. .. .. .. 00 ##\n",
      "## .. .. .. .. .. .. .. ##\n",
      "## .. .. () () () .. .. ##\n",
      "## .. .. .. .. .. .. .. ##\n",
      "## .. .. .. 01 .. .. .. ##\n",
      "## .. .. .. .. .. .. .. ##\n",
      "## ## ## ## ## ## ## ## ##\n",
      "Custo Total: 1\n",
      "Atingido o objectivo? False\n",
      "\n",
      "Ação: ('01', 'E')\n",
      "## ## ## ## ## ## ## ## ##\n",
      "## .. .. .. .. .. .. .. ##\n",
      "## .. .. .. .. .. .. 00 ##\n",
      "## .. .. .. .. .. .. .. ##\n",
      "## .. .. () () () .. .. ##\n",
      "## .. .. .. .. .. .. .. ##\n",
      "## .. .. .. .. .. .. 01 ##\n",
      "## .. .. .. .. .. .. .. ##\n",
      "## ## ## ## ## ## ## ## ##\n",
      "Custo Total: 2\n",
      "Atingido o objectivo? False\n",
      "\n",
      "Ação: ('00', 'S')\n",
      "## ## ## ## ## ## ## ## ##\n",
      "## .. .. .. .. .. .. .. ##\n",
      "## .. .. .. .. .. .. .. ##\n",
      "## .. .. .. .. .. .. .. ##\n",
      "## .. .. () () () .. .. ##\n",
      "## .. .. .. .. .. .. 00 ##\n",
      "## .. .. .. .. .. .. 01 ##\n",
      "## .. .. .. .. .. .. .. ##\n",
      "## ## ## ## ## ## ## ## ##\n",
      "Custo Total: 3\n",
      "Atingido o objectivo? True\n",
      "\n"
     ]
    },
    {
     "data": {
      "text/plain": [
       "True"
      ]
     },
     "execution_count": 165,
     "metadata": {},
     "output_type": "execute_result"
    }
   ],
   "source": [
    "p = PenguinsPairs(grid)\n",
    "seq = [('00', 'E'),('01', 'E'),('00', 'S')]\n",
    "p.goal_test(p.executa(p.initial, seq, verbose=True)[0])"
   ]
  },
  {
   "cell_type": "code",
   "execution_count": 166,
   "metadata": {},
   "outputs": [],
   "source": [
    "# print(\"00\".isdigit())"
   ]
  },
  {
   "cell_type": "code",
   "execution_count": 167,
   "metadata": {},
   "outputs": [
    {
     "name": "stdout",
     "output_type": "stream",
     "text": [
      "Solução Larg-prim (grafo) com custo 3:\n",
      "[('00', 'E'), ('01', 'E'), ('00', 'S')]\n",
      "[('00', 'E'), ('00', 'N'), ('00', 'O'), ('00', 'S'), ('01', 'E'), ('01', 'N'), ('01', 'O'), ('01', 'S')]\n"
     ]
    }
   ],
   "source": [
    "line1 = \"## ## ## ## ## ## ## ## ##\\n\"\n",
    "line2 = \"## .. .. .. .. .. .. .. ##\\n\"\n",
    "line3 = \"## .. .. .. 00 .. .. .. ##\\n\"\n",
    "line4 = \"## .. .. .. .. .. .. .. ##\\n\"\n",
    "line5 = \"## .. .. ## ## ## .. .. ##\\n\"\n",
    "line6 = \"## .. .. .. .. .. .. .. ##\\n\"\n",
    "line7 = \"## .. .. 01 .. .. .. .. ##\\n\"\n",
    "line8 = \"## .. .. .. .. .. .. .. ##\\n\"\n",
    "line9 = \"## ## ## ## ## ## ## ## ##\\n\"\n",
    "grid2 = line1 + line2 + line3 + line4 + line5 + line6 + line7 + line8 + line9\n",
    "\n",
    "p = PenguinsPairs(grid2)\n",
    "resultado = breadth_first_graph_search(p)\n",
    "if resultado:\n",
    "    print(\"Solução Larg-prim (grafo) com custo\", str(resultado.path_cost) + \":\")\n",
    "    print(resultado.solution())\n",
    "else:\n",
    "    print(\"Sem solução!\")\n",
    "\n",
    "print(p.actions(p.initial))"
   ]
  },
  {
   "cell_type": "code",
   "execution_count": 168,
   "metadata": {},
   "outputs": [
    {
     "name": "stdout",
     "output_type": "stream",
     "text": [
      "Sem solução!\n",
      "[('00', 'E'), ('00', 'N'), ('01', 'E')]\n"
     ]
    }
   ],
   "source": [
    "line1 = \"## ## ## ## ## ## ## ## ##\\n\"\n",
    "line2 = \"## .. .. .. .. .. .. .. ##\\n\"\n",
    "line3 = \"## 00 .. .. .. .. .. .. ##\\n\"\n",
    "line4 = \"## ## ## ## ## ## ## ## ##\\n\"\n",
    "line5 = \"## 01 .. .. .. .. .. .. ##\\n\"\n",
    "line6 = \"## ## ## ## ## ## .. ## ##\\n\"\n",
    "line7 = \"## .. .. .. .. .. .. .. ##\\n\"\n",
    "line8 = \"## .. .. .. .. .. .. .. ##\\n\"\n",
    "line9 = \"## ## ## ## ## ## ## ## ##\\n\"\n",
    "grid3 = line1 + line2 + line3 + line4 + line5 + line6 + line7 + line8 + line9\n",
    "\n",
    "p = PenguinsPairs(grid3)\n",
    "resultado = breadth_first_graph_search(p)\n",
    "if resultado:\n",
    "    print(\"Solução Larg-prim (grafo) com custo\", str(resultado.path_cost) + \":\")\n",
    "    print(resultado.solution())\n",
    "else:\n",
    "    print(\"Sem solução!\")\n",
    "\n",
    "print(p.actions(p.initial))"
   ]
  }
 ],
 "metadata": {
  "kernelspec": {
   "display_name": "base",
   "language": "python",
   "name": "python3"
  },
  "language_info": {
   "codemirror_mode": {
    "name": "ipython",
    "version": 3
   },
   "file_extension": ".py",
   "mimetype": "text/x-python",
   "name": "python",
   "nbconvert_exporter": "python",
   "pygments_lexer": "ipython3",
   "version": "3.12.7"
  }
 },
 "nbformat": 4,
 "nbformat_minor": 2
}

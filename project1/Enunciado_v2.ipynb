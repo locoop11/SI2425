{
 "cells": [
  {
   "cell_type": "markdown",
   "id": "be03c273-3f7b-460a-b105-e893ba30b8be",
   "metadata": {},
   "source": [
    "# Sistemas Inteligentes 2024/2025\n",
    "\n",
    "## Projeto 1: Pares de Pinguins\n",
    "\n",
    "### Entrega: 11 de Março às 23:59"
   ]
  },
  {
   "cell_type": "markdown",
   "id": "be5f1e4c",
   "metadata": {},
   "source": [
    "<center> <img src=\"penguins.png\" width=\"600\" /> </center>"
   ]
  },
  {
   "cell_type": "markdown",
   "id": "1aff2972-7118-4e2e-bfb1-b573a1a473c6",
   "metadata": {},
   "source": [
    "## Introdução\n",
    "\n",
    "Considere o jogo dos pares de pinguins que estão numa ilha de gelo, que pode ou não ser quadrada (ver imagens com exemplos). A ilha é escorregadia e quando um pinguim se desloca terá de embater noutro pinguim ou num icebergue/obstáculo para parar, caso contrário irá cair na água e desaparecer. Os pinguins só se podem deslocar para Norte (N), Sul (S), Este (E) ou Oeste (O). Podem existir vários pinguins numa ilha e o objetivo é emparelhá-los todos no menor número de movimentos. Neste projeto queremos fazer apenas a formulação do problema."
   ]
  },
  {
   "cell_type": "markdown",
   "id": "6989c959-a01a-4d10-b184-381d6d3e505e",
   "metadata": {},
   "source": [
    "## A ilha de gelo: representação do mundo\n",
    "\n",
    "Considere que cada célula do mundo é dada por um par de coordenadas $(l,c)$ e que cada célula à esquerda de topo é a célula $(0,0)$ e que a célula do fundo à direita é $(M-1,N-1)$, com $M$ o número de linhas e $N$ o número de colunas do mundo.\n",
    "\n",
    "Na representação do mundo considera-se que:\n",
    "* a ilha de gelo é cercada por icebergues ou água, onde os icebergues são representados pelo símbolo \"##\" e a água por \"()\";\n",
    "* o interior da ilha também pode conter icebergues ou buracos de água (representados pelos mesmos símbolos);\n",
    "* existem 2 ou mais pinguins (até um máximo de 100) representados por dois caracteres numéricos, \"00\", \"01\", e por aí adiante;\n",
    "* as casas livres são representadas por \"..\"\n",
    "\n",
    "Abaixo apresenta-se uma visualização de exemplo de um mundo inicial de dimensão 9x9, onde os pinguins estão nas células (2,4) e (6,4)\n",
    "```python\n",
    "## ## ## ## ## ## ## ## ##\n",
    "## .. .. .. .. .. .. .. ##\n",
    "## .. .. .. 00 .. .. .. ##\n",
    "## .. .. .. .. .. .. .. ##\n",
    "## .. () () () () () .. ##\n",
    "## .. .. .. .. .. .. .. ##\n",
    "## .. .. .. 01 .. .. .. ##\n",
    "## .. .. .. .. .. .. .. ##\n",
    "## ## ## ## ## ## ## ## ##\n",
    "```"
   ]
  },
  {
   "cell_type": "markdown",
   "id": "5410e74e-d480-45b4-9797-925c24ebbda7",
   "metadata": {},
   "source": [
    "## Objetivo\n",
    "\n",
    "Formule este problema, como um problema de procura num grafo, de acordo com o Paradigma do Espaço de Estados, usando a implementação disponibilizada pelo módulo `searchPlus.py`. Deve minimizar a informação incluída no estado, formado apenas pelo que muda com as ações.\n",
    "\n",
    "Assim, terá de completar a classe `PenguinsPairs`:\n",
    "\n",
    "```python\n",
    "from searchPlus import *\n",
    "\n",
    "line1 = \"## ## ## ## ## ## ## ## ##\\n\"\n",
    "line2 = \"## .. .. .. .. .. .. .. ##\\n\"\n",
    "line3 = \"## .. .. .. 00 .. .. .. ##\\n\"\n",
    "line4 = \"## .. .. .. .. .. .. .. ##\\n\"\n",
    "line5 = \"## .. () () () () () .. ##\\n\"\n",
    "line6 = \"## .. .. .. .. .. .. .. ##\\n\"\n",
    "line7 = \"## .. .. .. 01 .. .. .. ##\\n\"\n",
    "line8 = \"## .. .. .. .. .. .. .. ##\\n\"\n",
    "line9 = \"## ## ## ## ## ## ## ## ##\\n\"\n",
    "grid = line1 + line2 + line3 + line4 + line5 + line6 + line7 + line8 + line9\n",
    "\n",
    "class PenguinsPairs(Problem):\n",
    "\n",
    "    def __init__(self, ice_map=grid):\n",
    "        pass\n",
    "\n",
    "    def actions (self, state):\n",
    "        pass\n",
    "\n",
    "    def result (self, state, action):\n",
    "        pass\n",
    "\n",
    "    def goal_test (self, state):\n",
    "        pass\n",
    "\n",
    "    def display (self, state):\n",
    "        pass\n",
    "\n",
    "    def executa(self, state, actions_list, verbose=False):\n",
    "        \"\"\"Executa uma sequência de acções a partir do estado devolvendo o triplo formado pelo estado final, \n",
    "        pelo custo acumulado e pelo booleano que indica se o objectivo foi ou não atingido. Se o objectivo \n",
    "        for atingido antes da sequência ser atingida, devolve-se o estado e o custo corrente.\n",
    "        Há o modo verboso e o não verboso, por defeito.\"\"\"\n",
    "        cost = 0\n",
    "        for a in actions_list:\n",
    "            seg = self.result(state,a)\n",
    "            cost = self.path_cost(cost,state,a,seg)\n",
    "            state = seg\n",
    "            obj = self.goal_test(state)\n",
    "            if verbose:\n",
    "                print('Ação:', a)\n",
    "                print(self.display(state),end='')\n",
    "                print('Custo Total:',cost)\n",
    "                print('Atingido o objectivo?', obj)\n",
    "                print()\n",
    "            if obj:\n",
    "                break\n",
    "        return (state, cost, obj)\n",
    "```"
   ]
  },
  {
   "cell_type": "markdown",
   "id": "dfd87fe8-1b00-4920-b89d-97577984397a",
   "metadata": {},
   "source": [
    "#### O construtor de `PenguinsPairs`\n",
    "\n",
    "O construtor da classe que irá desenvolver recebe como input informação em texto, referente ao mundo inicial, com as suas dimensões, localização de icebergues e água e localização dos pinguins, dados implicitamente."
   ]
  },
  {
   "cell_type": "markdown",
   "id": "c4e5f068-eb89-4f78-bb50-2011e1a5d6eb",
   "metadata": {},
   "source": [
    "#### O método `actions`\n",
    "\n",
    "As ações correspondem às direções em que os pinguins se podem deslocar e são quatro: Norte, Sul, Este e Oeste, identificadas pelos símbolos \"N\", \"S\", \"E\" e \"O\", respetivamente. Como o mundo é escorregadio, quando um pinguim se desloca numa direção, só irá parar se embater num icebergue, se embater num pinguim ou se cair na água. Note que o objetivo é emparelhar todos os pinguins e por isso se um pinguim cair na água não será emparelhado com outro, não cumprindo o objetivo do jogo.\n",
    "\n",
    "A lista de ações possíveis devolvidas por este método deverá estar **ordenada por ordem numérica do identificador dos pinguins**  e depois **por ordem alfabética das ações**.\n",
    "\n",
    "\n",
    "Assim, para o exemplo acima, a lista de ações do estado inicial é obtido por\n",
    "```python\n",
    "p = PenguinsPairs()\n",
    "print(p.actions(p.initial))\n",
    "```\n",
    "gerando o output\n",
    "```python\n",
    "[('00', 'E'), ('00', 'N'), ('00', 'O'), ('01', 'E'), ('01', 'O'), ('01', 'S')]\n",
    "```\n",
    "\n",
    "Se o mundo inicial for semelhante à primeira figura do início do enunciado (com água no topo e em baixo):\n",
    "```python\n",
    "line1 = \"## () () () () () () () ##\\n\"\n",
    "line2 = \"## .. .. .. .. .. .. .. ##\\n\"\n",
    "line3 = \"## .. .. .. 00 .. .. .. ##\\n\"\n",
    "line4 = \"## .. .. .. .. .. .. .. ##\\n\"\n",
    "line5 = \"## .. .. () () () .. .. ##\\n\"\n",
    "line6 = \"## .. .. .. .. .. .. .. ##\\n\"\n",
    "line7 = \"## .. .. .. 01 .. .. .. ##\\n\"\n",
    "line8 = \"## .. .. .. .. .. .. .. ##\\n\"\n",
    "line9 = \"## () () () () () () () ##\\n\"\n",
    "grid2 = line1 + line2 + line3 + line4 + line5 + line6 + line7 + line8 + line9\n",
    "```\n",
    "a lista de ações do estado inicial é obtido por\n",
    "```python\n",
    "p = PenguinsPairs(grid2)\n",
    "print(p.actions(p.initial))\n",
    "```\n",
    "gerando o output\n",
    "```python\n",
    "[('00', 'E'), ('00', 'O'), ('01', 'E'), ('01', 'O')]\n",
    "```"
   ]
  },
  {
   "cell_type": "markdown",
   "id": "c104fb3d-10e2-4d9f-b619-10f07e0aa6c8",
   "metadata": {},
   "source": [
    "#### O método `result`\n",
    "\n",
    "Repare que se um estado $s$ for objeto do método `result` ele deve permanecer exatamente igual, não sendo modificado pelo método. Deve ser gerado um novo estado $s´$ e não alterar o estado $s$. Note que o teste de validade das ações deve ser feito no método `actions`, sendo ineficiente e redundante repeti-lo no método `result`.\n",
    "\n",
    "Quando se aplica uma ação a um determinado estado, i.e., quando um pinguim se desloca numa direção, as seguintes situações podem ocorrer:\n",
    "- o pinguim pode embater num icebergue, ficando posicionado na casa vizinha ao icebergue\n",
    "- o pinguim pode embater noutro pinguim, ficando em cima dele e sendo ambos removidos do jogo"
   ]
  },
  {
   "cell_type": "markdown",
   "id": "d0ef8386-b9f8-4f4e-ac2b-149e92f5db13",
   "metadata": {},
   "source": [
    "#### Igualdade entre estados\n",
    "\n",
    "É importante que dois estados exatamente com os mesmos valores nos seus atributos sejam considerados iguais mesmo que sejam objetos distintos!"
   ]
  },
  {
   "cell_type": "markdown",
   "id": "e2a85ed9-ba9c-4b05-b34b-f7f883da9212",
   "metadata": {},
   "source": [
    "#### Sem programação defensiva\n",
    "\n",
    "Apenas precisa de ter em consideração situações iniciais de mundos que sejam válidos (não há símbolos desconhecidos no mundo e há sempre um número par de pinguins). O principal objetivo desta avaliação é a formulação do problema num espaço de estados. Desenvolva o código assumindo sempre que o input do construtor da classe `PenguinsPairs` é sempre válido."
   ]
  },
  {
   "cell_type": "markdown",
   "id": "f0cd37a6-999b-4dbe-8cb9-2f2c796b13b9",
   "metadata": {},
   "source": [
    "#### O método `display`\n",
    "\n",
    "A função `display` pega no estado e faz a visualização do mundo em modo texto respeitando o formato usado no input do construtor. Um exemplo da sua aplicação para o mundo pré-definido\n",
    "```python\n",
    "p = PenguinsPairs()\n",
    "print(p.display(p.initial))\n",
    "```\n",
    "gera o seguinte output\n",
    "```python\n",
    "## ## ## ## ## ## ## ## ## \n",
    "## .. .. .. .. .. .. .. ## \n",
    "## .. .. .. 00 .. .. .. ## \n",
    "## .. .. .. .. .. .. .. ## \n",
    "## .. .. () () () .. .. ## \n",
    "## .. .. .. .. .. .. .. ## \n",
    "## .. .. .. 01 .. .. .. ## \n",
    "## .. .. .. .. .. .. .. ## \n",
    "## ## ## ## ## ## ## ## ## \n",
    "```"
   ]
  },
  {
   "cell_type": "markdown",
   "id": "dbdd8c21-dc35-45ad-bcae-ba60ec97a606",
   "metadata": {},
   "source": [
    "#### O método `executa`\n",
    "\n",
    "A função `executa` permite executar uma sequência de ações a partir de um determinado estado, devolvendo o estado que resulta da aplicação da sequência de ações, o custo total dessas ações e a indicação se o objetivo foi ou não satisfeito. Note que se o objetivo for atingido antes de aplicar todas as ações, o processo é interrompido sendo devolvido um triplo com a informação presente.\n",
    "\n",
    "Há um modo verboso e não verboso, sendo o não verboso o modo por defeito. Se colocar o modo verboso a True, após cada ação é apresentado o estado em modo txt, através do método `display`, juntamente com o custo total até ao momento e a indicação se o objetivo é atingido ou não. Serve para ajudar a testar o código.\n",
    "\n",
    "Note que uma solução para o problema do mundo representado acima, com custo 3, seria:\n",
    "```python\n",
    "[('00','E'),('01','E'),('00','S')]\n",
    "```\n",
    "Usando o método `executa` podemos testar a implementação do problema. Por exemplo, partindo do estado inicial definido por defeito, e aplicando a lista de ações acima, atinge-se o estado final \n",
    "```python\n",
    "p = PenguinsPairs()\n",
    "seq = [('00','E'),('01','E'),('00','S')]\n",
    "p.goal_test(p.executa(p.initial,seq)[0])\n",
    "```\n",
    "gera o seguinte output\n",
    "```python\n",
    "True\n",
    "```"
   ]
  },
  {
   "cell_type": "markdown",
   "id": "e7eb3b15-ed6b-4ce9-b48d-a6251690ae41",
   "metadata": {},
   "source": [
    "## Submissão\n",
    "\n",
    "#### Quizz\n",
    "\n",
    "Cada grupo deve completar a implementação da classe `PenguinsPairs` e testá-la no link do quizz **Projeto 1** que está na página da disciplina, introduzindo aí o vosso código. Os vários elementos do grupo podem desenvolver, submeter e avaliar o código várias vezes, sendo a submissão com melhor nota a que será considerada.\n",
    "\n",
    "Esse quizz é constituído por uma única pergunta, a implementação da classe `PenguinsPairs` e será avaliada através de um conjunto de testes automáticos visíveis e outros invisíveis, valendo um total de 1.5 valores da avaliação da Unidade Curricular.\n",
    "\n",
    "Os testes visíveis valem 6 em 20, enquanto que os testes invisíveis valem 14 em 20.\n",
    "\n",
    "#### Ficheiro Pyhton\n",
    "\n",
    "Simultaneamente, é necessário submeter o script Python que contém todo o código submetido no quizz. **Só se pretende uma submissão por grupo**. Esse ficheiro deve chamar-se **Pinguins_SInt_24_25_grupoXX.py**, em que substituem XX pelo número do grupo."
   ]
  },
  {
   "cell_type": "code",
   "execution_count": null,
   "id": "d39b1bf6",
   "metadata": {},
   "outputs": [],
   "source": []
  }
 ],
 "metadata": {
  "kernelspec": {
   "display_name": "Python 3 (ipykernel)",
   "language": "python",
   "name": "python3"
  },
  "language_info": {
   "codemirror_mode": {
    "name": "ipython",
    "version": 3
   },
   "file_extension": ".py",
   "mimetype": "text/x-python",
   "name": "python",
   "nbconvert_exporter": "python",
   "pygments_lexer": "ipython3",
   "version": "3.8.12"
  }
 },
 "nbformat": 4,
 "nbformat_minor": 5
}
